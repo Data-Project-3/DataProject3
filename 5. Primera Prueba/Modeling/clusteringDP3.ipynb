{
 "cells": [
  {
   "cell_type": "markdown",
   "metadata": {},
   "source": [
    "# Clustering"
   ]
  },
  {
   "cell_type": "markdown",
   "metadata": {},
   "source": [
    "Son técnicas de Machine Learning no Supervisado en los que no tenemos un target y en los que queremos agrupar los datos para encontrar patrones. Es decir, de forma automática encuentra agrupaciones o clústeres de elementos de acuerdo a una medida de similitud entre ellos. \n",
    "\n",
    "El objetivo fundamental de las técnicas de clustering consiste en identificar grupos o clústeres de elementos tal que:\n",
    "\n",
    "- La similitud media entre elementos del mismo clúster sea alta. Similitud intra-clúster alta.\n",
    "\n",
    "- La similitud media entre elementos de distintos clústeres sea baja. Similitud inter-clúster baja.\n",
    "\n",
    "\n",
    "\n"
   ]
  },
  {
   "cell_type": "code",
   "execution_count": 6,
   "metadata": {},
   "outputs": [],
   "source": [
    "# import libraries\n",
    "%matplotlib inline\n",
    "import matplotlib.pyplot as plt\n",
    "import seaborn as sns; sns.set()  # for plot styling\n",
    "import numpy as np\n",
    "from sklearn.cluster import KMeans\n",
    "import pandas as pd"
   ]
  },
  {
   "cell_type": "markdown",
   "metadata": {},
   "source": [
    "# Carga de datos"
   ]
  },
  {
   "cell_type": "code",
   "execution_count": 28,
   "metadata": {},
   "outputs": [],
   "source": [
    "X=pd.read_csv('/Users/galovalle/Desktop/DP3/train_performance.csv')\n",
    "X2=pd.read_csv('/Users/galovalle/Desktop/processed.csv')"
   ]
  },
  {
   "cell_type": "code",
   "execution_count": 18,
   "metadata": {},
   "outputs": [],
   "source": [
    "X = X.drop(['customerid','approveddate', 'creationdate','good_bad_flag','referredby','systemloanid'], axis=1)\n"
   ]
  },
  {
   "cell_type": "code",
   "execution_count": 22,
   "metadata": {},
   "outputs": [
    {
     "data": {
      "text/html": [
       "<div>\n",
       "<style scoped>\n",
       "    .dataframe tbody tr th:only-of-type {\n",
       "        vertical-align: middle;\n",
       "    }\n",
       "\n",
       "    .dataframe tbody tr th {\n",
       "        vertical-align: top;\n",
       "    }\n",
       "\n",
       "    .dataframe thead th {\n",
       "        text-align: right;\n",
       "    }\n",
       "</style>\n",
       "<table border=\"1\" class=\"dataframe\">\n",
       "  <thead>\n",
       "    <tr style=\"text-align: right;\">\n",
       "      <th></th>\n",
       "      <th>loannumber</th>\n",
       "      <th>loanamount</th>\n",
       "      <th>totaldue</th>\n",
       "      <th>termdays</th>\n",
       "    </tr>\n",
       "  </thead>\n",
       "  <tbody>\n",
       "    <tr>\n",
       "      <th>0</th>\n",
       "      <td>12</td>\n",
       "      <td>30000.0</td>\n",
       "      <td>34500.0</td>\n",
       "      <td>30</td>\n",
       "    </tr>\n",
       "    <tr>\n",
       "      <th>1</th>\n",
       "      <td>2</td>\n",
       "      <td>15000.0</td>\n",
       "      <td>17250.0</td>\n",
       "      <td>30</td>\n",
       "    </tr>\n",
       "    <tr>\n",
       "      <th>2</th>\n",
       "      <td>7</td>\n",
       "      <td>20000.0</td>\n",
       "      <td>22250.0</td>\n",
       "      <td>15</td>\n",
       "    </tr>\n",
       "    <tr>\n",
       "      <th>3</th>\n",
       "      <td>3</td>\n",
       "      <td>10000.0</td>\n",
       "      <td>11500.0</td>\n",
       "      <td>15</td>\n",
       "    </tr>\n",
       "    <tr>\n",
       "      <th>4</th>\n",
       "      <td>9</td>\n",
       "      <td>40000.0</td>\n",
       "      <td>44000.0</td>\n",
       "      <td>30</td>\n",
       "    </tr>\n",
       "    <tr>\n",
       "      <th>...</th>\n",
       "      <td>...</td>\n",
       "      <td>...</td>\n",
       "      <td>...</td>\n",
       "      <td>...</td>\n",
       "    </tr>\n",
       "    <tr>\n",
       "      <th>4363</th>\n",
       "      <td>2</td>\n",
       "      <td>10000.0</td>\n",
       "      <td>13000.0</td>\n",
       "      <td>30</td>\n",
       "    </tr>\n",
       "    <tr>\n",
       "      <th>4364</th>\n",
       "      <td>2</td>\n",
       "      <td>10000.0</td>\n",
       "      <td>13000.0</td>\n",
       "      <td>30</td>\n",
       "    </tr>\n",
       "    <tr>\n",
       "      <th>4365</th>\n",
       "      <td>3</td>\n",
       "      <td>10000.0</td>\n",
       "      <td>11500.0</td>\n",
       "      <td>15</td>\n",
       "    </tr>\n",
       "    <tr>\n",
       "      <th>4366</th>\n",
       "      <td>2</td>\n",
       "      <td>10000.0</td>\n",
       "      <td>13000.0</td>\n",
       "      <td>30</td>\n",
       "    </tr>\n",
       "    <tr>\n",
       "      <th>4367</th>\n",
       "      <td>8</td>\n",
       "      <td>30000.0</td>\n",
       "      <td>34500.0</td>\n",
       "      <td>30</td>\n",
       "    </tr>\n",
       "  </tbody>\n",
       "</table>\n",
       "<p>4368 rows × 4 columns</p>\n",
       "</div>"
      ],
      "text/plain": [
       "      loannumber  loanamount  totaldue  termdays\n",
       "0             12     30000.0   34500.0        30\n",
       "1              2     15000.0   17250.0        30\n",
       "2              7     20000.0   22250.0        15\n",
       "3              3     10000.0   11500.0        15\n",
       "4              9     40000.0   44000.0        30\n",
       "...          ...         ...       ...       ...\n",
       "4363           2     10000.0   13000.0        30\n",
       "4364           2     10000.0   13000.0        30\n",
       "4365           3     10000.0   11500.0        15\n",
       "4366           2     10000.0   13000.0        30\n",
       "4367           8     30000.0   34500.0        30\n",
       "\n",
       "[4368 rows x 4 columns]"
      ]
     },
     "execution_count": 22,
     "metadata": {},
     "output_type": "execute_result"
    }
   ],
   "source": [
    "X.dropna()"
   ]
  },
  {
   "cell_type": "code",
   "execution_count": 30,
   "metadata": {},
   "outputs": [
    {
     "data": {
      "text/plain": [
       "Index(['Unnamed: 0', 'customerid', 'bank_branch_clients', 'systemloanid',\n",
       "       'loannumber', 'loanamount', 'totaldue', 'termdays', 'good_bad_flag',\n",
       "       'referred', 'realage', 'TipoInteresAhora', 'bank_account_Current',\n",
       "       'bank_account_Other', 'bank_account_Savings',\n",
       "       'level_of_education_clients_Graduate',\n",
       "       'level_of_education_clients_Post-Graduate',\n",
       "       'level_of_education_clients_Primary',\n",
       "       'level_of_education_clients_Secondary',\n",
       "       'level_of_education_clients_Unknown', 'bank_name_client_Access Bank',\n",
       "       'bank_name_client_Diamond Bank', 'bank_name_client_EcoBank',\n",
       "       'bank_name_client_FCMB', 'bank_name_client_Fidelity Bank',\n",
       "       'bank_name_client_First Bank', 'bank_name_client_GT Bank',\n",
       "       'bank_name_client_Heritage Bank', 'bank_name_client_Keystone Bank',\n",
       "       'bank_name_client_Skye Bank', 'bank_name_client_Stanbic IBTC',\n",
       "       'bank_name_client_Standard Chartered', 'bank_name_client_Sterling Bank',\n",
       "       'bank_name_client_UBA', 'bank_name_client_Union Bank',\n",
       "       'bank_name_client_Unity Bank', 'bank_name_client_Wema Bank',\n",
       "       'bank_name_client_Zenith Bank', 'employment_status_client_Contract',\n",
       "       'employment_status_client_Permanent',\n",
       "       'employment_status_client_Retired',\n",
       "       'employment_status_client_Self-Employed',\n",
       "       'employment_status_client_Student',\n",
       "       'employment_status_client_Unemployed',\n",
       "       'employment_status_client_Unknown', 'number_of_Loans',\n",
       "       'accumlated_loan_given', 'accumlated_timediff', 'time-to-payoff',\n",
       "       'accumulated_money_won', 'is_late_for_firstpay'],\n",
       "      dtype='object')"
      ]
     },
     "execution_count": 30,
     "metadata": {},
     "output_type": "execute_result"
    }
   ],
   "source": [
    "X2.columns"
   ]
  },
  {
   "cell_type": "code",
   "execution_count": 34,
   "metadata": {},
   "outputs": [],
   "source": [
    "X2=X2.drop(['Unnamed: 0','customerid','good_bad_flag'], axis=1)"
   ]
  },
  {
   "cell_type": "code",
   "execution_count": 32,
   "metadata": {},
   "outputs": [],
   "source": [
    "X2=X2.dropna()"
   ]
  },
  {
   "cell_type": "markdown",
   "metadata": {},
   "source": [
    "# Algoritmo k-means"
   ]
  },
  {
   "cell_type": "code",
   "execution_count": null,
   "metadata": {},
   "outputs": [],
   "source": []
  },
  {
   "cell_type": "code",
   "execution_count": 46,
   "metadata": {},
   "outputs": [
    {
     "data": {
      "text/plain": [
       "array([2, 2, 2, ..., 0, 0, 2], dtype=int32)"
      ]
     },
     "execution_count": 46,
     "metadata": {},
     "output_type": "execute_result"
    }
   ],
   "source": [
    "# [3] Definir modelo\n",
    "kmeans = KMeans(n_clusters=3)\n",
    "\n",
    "# [4] Entrenar modelo\n",
    "kmeans.fit(X2)\n",
    "\n",
    "# [5] Generar predicciones\n",
    "y_kmeans = kmeans.predict(X2)\n",
    "y_kmeans"
   ]
  },
  {
   "cell_type": "code",
   "execution_count": 50,
   "metadata": {},
   "outputs": [],
   "source": [
    "y_kmeans = pd.DataFrame(y_kmeans)"
   ]
  },
  {
   "cell_type": "code",
   "execution_count": 53,
   "metadata": {},
   "outputs": [
    {
     "data": {
      "text/plain": [
       "2    0.640587\n",
       "0    0.231051\n",
       "1    0.128362\n",
       "dtype: float64"
      ]
     },
     "execution_count": 53,
     "metadata": {},
     "output_type": "execute_result"
    }
   ],
   "source": [
    "y_kmeans.value_counts()/len(y_kmeans)"
   ]
  },
  {
   "cell_type": "markdown",
   "metadata": {},
   "source": [
    "# Visualización de resultados"
   ]
  },
  {
   "cell_type": "markdown",
   "metadata": {},
   "source": [
    "## Elegir número óptimo de clústers"
   ]
  },
  {
   "cell_type": "markdown",
   "metadata": {},
   "source": [
    "Elegir el número correcto de grupos\n",
    "Muchas veces los datos con los que trabajará tendrán múltiples dimensiones, lo que dificultará la visualización. Como consecuencia, el número óptimo de grupos ya no es obvio. Afortunadamente, tenemos una forma de determinar esto matemáticamente.\n",
    "Mostramos en una gráfico la relación entre el número de clusters y la Suma de cuadrados dentro del grupo (WCSS), luego seleccionamos el número de grupos donde el cambio en WCSS comienza a nivelarse (elbow method)."
   ]
  },
  {
   "cell_type": "markdown",
   "metadata": {},
   "source": [
    "## Método elbow"
   ]
  },
  {
   "cell_type": "code",
   "execution_count": 36,
   "metadata": {},
   "outputs": [
    {
     "data": {
      "image/png": "[encoded data removed]",
      "text/plain": [
       "<Figure size 432x288 with 1 Axes>"
      ]
     },
     "metadata": {},
     "output_type": "display_data"
    }
   ],
   "source": [
    "wcss = []\n",
    "for i in range(1, 11):\n",
    "    kmeans = KMeans(n_clusters=i, init='k-means++', max_iter=300, n_init=10, random_state=0)\n",
    "    kmeans.fit(X2)\n",
    "    wcss.append(kmeans.inertia_)\n",
    "plt.plot(range(1, 11), wcss)\n",
    "plt.title('Elbow Method')\n",
    "plt.xlabel('Number of clusters')\n",
    "plt.ylabel('WCSS')\n",
    "plt.show()"
   ]
  },
  {
   "cell_type": "markdown",
   "metadata": {},
   "source": [
    "El número óptimo parece que sería 3-4 en este caso."
   ]
  }
 ],
 "metadata": {
  "kernelspec": {
   "display_name": "Python 3 (ipykernel)",
   "language": "python",
   "name": "python3"
  },
  "language_info": {
   "codemirror_mode": {
    "name": "ipython",
    "version": 3
   },
   "file_extension": ".py",
   "mimetype": "text/x-python",
   "name": "python",
   "nbconvert_exporter": "python",
   "pygments_lexer": "ipython3",
   "version": "3.8.12"
  }
 },
 "nbformat": 4,
 "nbformat_minor": 2
}
