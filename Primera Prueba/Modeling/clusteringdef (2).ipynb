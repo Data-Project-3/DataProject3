{
  "cells": [
    {
      "cell_type": "markdown",
      "metadata": {
        "id": "MvdOA4Ofhsqu"
      },
      "source": [
        "# Clustering"
      ]
    },
    {
      "cell_type": "markdown",
      "metadata": {
        "id": "hKC3Wr7rhsq1"
      },
      "source": [
        "Son técnicas de Machine Learning no Supervisado en los que no tenemos un target y en los que queremos agrupar los datos para encontrar patrones. Es decir, de forma automática encuentra agrupaciones o clústeres de elementos de acuerdo a una medida de similitud entre ellos. \n",
        "\n",
        "El objetivo fundamental de las técnicas de clustering consiste en identificar grupos o clústeres de elementos tal que:\n",
        "\n",
        "- La similitud media entre elementos del mismo clúster sea alta. Similitud intra-clúster alta.\n",
        "\n",
        "- La similitud media entre elementos de distintos clústeres sea baja. Similitud inter-clúster baja.\n",
        "\n",
        "\n",
        "\n"
      ]
    },
    {
      "cell_type": "markdown",
      "metadata": {
        "id": "7r3rImmFhsq4"
      },
      "source": [
        "Existen varias clases de clustering según la tecnica utilizada para la separación de los grupos:\n",
        "    \n",
        "    - Clustering jerarquico.\n",
        "    \n",
        "    - Clustering de partición."
      ]
    },
    {
      "cell_type": "markdown",
      "metadata": {
        "id": "EMxwJZvmhsq5"
      },
      "source": [
        "## Clustering Jerarquico\n",
        "\n",
        "La técnica de clustering jerárquico construye un dendograma o árbol que representa las relaciones de similitud entre los distintos elementos. \n",
        "\n",
        "Existen dos aproximaciones diferentes al clustering jerárquico:\n",
        "\n",
        "- **Clustering jerárquico aglomerativo:** se comienza con tantos clústeres como individuos y consiste en ir formando (aglomerando) grupos según su similitud.\n",
        "- **Clustering jerárquico de división:** se comienza con un único clúster y consiste en ir dividiendo clústeres según la disimilitud entre sus componentes."
      ]
    },
    {
      "cell_type": "markdown",
      "metadata": {
        "id": "at1NBiBRhsq6"
      },
      "source": [
        "## Clustering de partición \n",
        "\n",
        "La técnica de clustering de partición entorno a centroides (PAM) realiza una distribución de los elementos entre un número prefijado de clústeres o grupos. Definimos el centroide de un clúster como aquel elemento que minimiza la suma de las similitudes al resto de los elementos del clúster: Esta técnica recibe como dato de entrada el número de clústers a formar además de los elementos a clasificar y la matriz de similitudes.\n",
        "\n",
        "Definimos el centroide de un clúster como aquel elemento que minimiza la suma de las similitudes al resto de los elementos del clúster:\n",
        "            \n",
        "Los pasos del algoritmo son los siguientes:\n",
        "\n",
        "- **Paso 1:** Seleccionar k centroides aleatoriamente.\n",
        "\n",
        "- **Paso 2:** Crear k clústeres asignando cada elemento al centroide más cercano.\n",
        "    \n",
        "- **Paso 3:** Calcular nuevos centroides como aquellos elementos que minimizan la suma de las distancias al resto de elementos del clúster.\n",
        "\n",
        "- **Paso 4:** Volver al paso 2 mientras haya cambio en los clústeres o se alcance un número máximo de iteraciones.\n"
      ]
    },
    {
      "cell_type": "code",
      "execution_count": 3,
      "metadata": {
        "id": "afeGgfYthsq8"
      },
      "outputs": [],
      "source": [
        "# import libraries\n",
        "%matplotlib inline\n",
        "import pandas as pd\n",
        "import matplotlib.pyplot as plt\n",
        "import seaborn as sns; sns.set()  # for plot styling\n",
        "import numpy as np\n",
        "from sklearn.cluster import KMeans"
      ]
    },
    {
      "cell_type": "markdown",
      "metadata": {
        "id": "jRdX7YQyhsq-"
      },
      "source": [
        "## Creacion de datos"
      ]
    },
    {
      "cell_type": "code",
      "execution_count": 5,
      "metadata": {
        "id": "uMHiDVaRhsq_"
      },
      "outputs": [],
      "source": [
        "from sklearn.datasets import make_blobs\n",
        "X12 = pd.read_csv('/content/processed.csv')\n",
        "X123 = X12.drop(['customerid'], axis=1)\n",
        "X1 = X123.dropna()"
      ]
    },
    {
      "cell_type": "code",
      "source": [
        "X = X1.loc[:, ~X1.columns.str.contains('^Unnamed')]"
      ],
      "metadata": {
        "id": "iAIEg--w7Gvb"
      },
      "execution_count": 6,
      "outputs": []
    },
    {
      "cell_type": "markdown",
      "metadata": {
        "id": "weFMx5kShsrC"
      },
      "source": [
        "# Algoritmo k-means"
      ]
    },
    {
      "cell_type": "code",
      "execution_count": 7,
      "metadata": {
        "colab": {
          "base_uri": "https://localhost:8080/"
        },
        "id": "V8QyzTazhsrD",
        "outputId": "7f6c2bc9-fedd-498a-c81b-1b9bac182159"
      },
      "outputs": [
        {
          "output_type": "execute_result",
          "data": {
            "text/plain": [
              "array([2, 2, 2, ..., 0, 0, 2], dtype=int32)"
            ]
          },
          "metadata": {},
          "execution_count": 7
        }
      ],
      "source": [
        "# [3] Definir modelo\n",
        "kmeans = KMeans(n_clusters=3)\n",
        "\n",
        "# [4] Entrenar modelo\n",
        "kmeans.fit(X)\n",
        "\n",
        "# [5] Generar predicciones\n",
        "y_kmeans = kmeans.predict(X)\n",
        "y_kmeans"
      ]
    },
    {
      "cell_type": "markdown",
      "metadata": {
        "id": "CZaFHEDLhsrF"
      },
      "source": [
        "## Elegir número óptimo de clústers"
      ]
    },
    {
      "cell_type": "markdown",
      "metadata": {
        "id": "GJYCQgYshsrG"
      },
      "source": [
        "Elegir el número correcto de grupos\n",
        "Muchas veces los datos con los que trabajará tendrán múltiples dimensiones, lo que dificultará la visualización. Como consecuencia, el número óptimo de grupos ya no es obvio. Afortunadamente, tenemos una forma de determinar esto matemáticamente.\n",
        "Mostramos en una gráfico la relación entre el número de clusters y la Suma de cuadrados dentro del grupo (WCSS), luego seleccionamos el número de grupos donde el cambio en WCSS comienza a nivelarse (elbow method)."
      ]
    },
    {
      "cell_type": "markdown",
      "metadata": {
        "id": "foSMA-b0hsrG"
      },
      "source": [
        "## Método elbow"
      ]
    },
    {
      "cell_type": "code",
      "execution_count": 8,
      "metadata": {
        "colab": {
          "base_uri": "https://localhost:8080/",
          "height": 301
        },
        "id": "Dz4DTr9shsrH",
        "outputId": "e7632374-d267-4322-b71b-0fd926e3001a"
      },
      "outputs": [
        {
          "output_type": "display_data",
          "data": {
            "text/plain": [
              "<Figure size 432x288 with 1 Axes>"
            ],
            "image/png": "[encoded data removed]"
          },
          "metadata": {}
        }
      ],
      "source": [
        "wcss = []\n",
        "for i in range(1, 11):\n",
        "    kmeans = KMeans(n_clusters=i, init='k-means++', max_iter=300, n_init=10, random_state=0)\n",
        "    kmeans.fit(X)\n",
        "    wcss.append(kmeans.inertia_)\n",
        "plt.plot(range(1, 11), wcss)\n",
        "plt.title('Elbow Method')\n",
        "plt.xlabel('Number of clusters')\n",
        "plt.ylabel('WCSS')\n",
        "plt.show()"
      ]
    },
    {
      "cell_type": "markdown",
      "source": [
        ""
      ],
      "metadata": {
        "id": "blEqbIlClagL"
      }
    },
    {
      "cell_type": "markdown",
      "metadata": {
        "id": "POdsRmtfhsrI"
      },
      "source": [
        "El número óptimo parece que sería 3-4 en este caso."
      ]
    },
    {
      "cell_type": "markdown",
      "source": [
        "# SHILOUTTE SCORE\n",
        " .Determine the \"K\" value, the optimal clustering partition"
      ],
      "metadata": {
        "id": "-EW1bOb0lU7Z"
      }
    },
    {
      "cell_type": "code",
      "source": [
        "# import libraries\n",
        "import numpy as np\n",
        "import pandas as pd\n",
        "import csv\n",
        "from sklearn.cluster import KMeans\n",
        "from sklearn.metrics import silhouette_score"
      ],
      "metadata": {
        "id": "7Ov7lYbglb39"
      },
      "execution_count": 9,
      "outputs": []
    },
    {
      "cell_type": "code",
      "source": [
        "#Use silhouette score\n",
        "range_n_clusters = list (range(2,10))\n",
        "print (\"Number of clusters from 2 to 9: \\n\", range_n_clusters)"
      ],
      "metadata": {
        "colab": {
          "base_uri": "https://localhost:8080/"
        },
        "id": "AWbXE8suleOq",
        "outputId": "6e594270-8e66-4922-9d4a-c8c27aabb5f8"
      },
      "execution_count": 10,
      "outputs": [
        {
          "output_type": "stream",
          "name": "stdout",
          "text": [
            "Number of clusters from 2 to 9: \n",
            " [2, 3, 4, 5, 6, 7, 8, 9]\n"
          ]
        }
      ]
    },
    {
      "cell_type": "code",
      "source": [
        "# fit the model for the whole range and print results\n",
        "\n",
        "for n_clusters in range_n_clusters:\n",
        "    clusterer = KMeans (n_clusters=n_clusters).fit(X)\n",
        "    preds = clusterer.predict(X)\n",
        "    centers = clusterer.cluster_centers_\n",
        "    score = silhouette_score(X, preds)\n",
        "    print(\"For n_clusters = {}, silhouette score is {})\".format(n_clusters, score))"
      ],
      "metadata": {
        "colab": {
          "base_uri": "https://localhost:8080/"
        },
        "id": "MPxocFlBllrc",
        "outputId": "54e702cd-6d11-4ed9-cf05-6bda3fac4786"
      },
      "execution_count": 11,
      "outputs": [
        {
          "output_type": "stream",
          "name": "stdout",
          "text": [
            "For n_clusters = 2, silhouette score is 0.7072977197806986)\n",
            "For n_clusters = 3, silhouette score is 0.6434431958703264)\n",
            "For n_clusters = 4, silhouette score is 0.5979479941765371)\n",
            "For n_clusters = 5, silhouette score is 0.5930719223973676)\n",
            "For n_clusters = 6, silhouette score is 0.5917738463014137)\n",
            "For n_clusters = 7, silhouette score is 0.5975303023804862)\n",
            "For n_clusters = 8, silhouette score is 0.5930614267997515)\n",
            "For n_clusters = 9, silhouette score is 0.5552198116865887)\n"
          ]
        }
      ]
    }
  ],
  "metadata": {
    "kernelspec": {
      "display_name": "Python 3",
      "language": "python",
      "name": "python3"
    },
    "language_info": {
      "codemirror_mode": {
        "name": "ipython",
        "version": 3
      },
      "file_extension": ".py",
      "mimetype": "text/x-python",
      "name": "python",
      "nbconvert_exporter": "python",
      "pygments_lexer": "ipython3",
      "version": "3.8.5"
    },
    "colab": {
      "name": "clusteringdef.ipynb",
      "provenance": []
    }
  },
  "nbformat": 4,
  "nbformat_minor": 0
}