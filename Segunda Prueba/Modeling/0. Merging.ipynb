{
  "nbformat": 4,
  "nbformat_minor": 0,
  "metadata": {
    "colab": {
      "name": "Merging.ipynb",
      "provenance": []
    },
    "kernelspec": {
      "name": "python3",
      "display_name": "Python 3"
    },
    "language_info": {
      "name": "python"
    }
  },
  "cells": [
    {
      "cell_type": "markdown",
      "source": [
        "# Preprocessing"
      ],
      "metadata": {
        "id": "7lVCWbm5bHyX"
      }
    },
    {
      "cell_type": "code",
      "execution_count": 1,
      "metadata": {
        "id": "1tKa4n9QaarL"
      },
      "outputs": [],
      "source": [
        "import pandas as pd #Gestionar dataframes\n",
        "import numpy as np #Numeric python\n",
        "import matplotlib.pyplot as plt #Graficos\n",
        "from sklearn.preprocessing import OneHotEncoder\n",
        "from sklearn.compose import make_column_transformer\n",
        "from datetime import datetime, date"
      ]
    },
    {
      "cell_type": "code",
      "source": [
        "tr_performance = pd.read_csv(\"train_performance.csv\", sep=',', decimal=';')\n",
        "tr_datos_demog = pd.read_csv(\"train_datos_demograficos.csv\", sep=',', decimal=';')\n",
        "tr_prev_loan = pd.read_csv(\"train_previous_loan.csv\", sep=',', decimal=';')"
      ],
      "metadata": {
        "id": "KYRGp1rVbOvP"
      },
      "execution_count": 2,
      "outputs": []
    },
    {
      "cell_type": "markdown",
      "source": [
        "Merging dataset performance and demographic data with the primary key, customerid"
      ],
      "metadata": {
        "id": "ygxVAQvXboji"
      }
    },
    {
      "cell_type": "code",
      "source": [
        "df = tr_datos_demog.merge(tr_performance, how='inner', on='customerid')\n",
        "#print(df)"
      ],
      "metadata": {
        "id": "0BFiyjdIbrwy"
      },
      "execution_count": 9,
      "outputs": []
    },
    {
      "cell_type": "markdown",
      "source": [
        "Make our target variable into binary (good_bad_flag into binary)and we copy all the info into another dataframe as original must be left untouched"
      ],
      "metadata": {
        "id": "NNMatOsgb9Gd"
      }
    },
    {
      "cell_type": "code",
      "source": [
        "config_df = df.copy()\n",
        "config_df[\"good_bad_flag\"] = config_df[\"good_bad_flag\"].apply(lambda x: 0 if x=='Bad' else 1) #Changing good to 1, bad to 0 \n",
        "config_df[\"good_bad_flag\"].value_counts()"
      ],
      "metadata": {
        "colab": {
          "base_uri": "https://localhost:8080/"
        },
        "id": "71ulXpYLcCl3",
        "outputId": "e0f8c767-dc01-4b49-a6b0-13d97941c07a"
      },
      "execution_count": 10,
      "outputs": [
        {
          "output_type": "execute_result",
          "data": {
            "text/plain": [
              "1    2563\n",
              "0     714\n",
              "Name: good_bad_flag, dtype: int64"
            ]
          },
          "metadata": {},
          "execution_count": 10
        }
      ]
    },
    {
      "cell_type": "markdown",
      "source": [
        "Due to EDA, we know the variable referredby variable has an 87% of missing variables. We will convert referred_by to binary, referred (1) or not referred (0)"
      ],
      "metadata": {
        "id": "DRYqZJXccJF_"
      }
    },
    {
      "cell_type": "code",
      "source": [
        "config_df[\"referredby\"].value_counts()\n",
        "config_df['referredby'] = config_df['referredby'].fillna(0)\n",
        "config_df['referred'] = config_df['referredby'].apply(lambda x: 0 if x==0 else 1) #Changing strings to 1 (referred), everything to 0 (not referred)\n",
        "config_df.drop('referredby', axis=1, inplace=True)"
      ],
      "metadata": {
        "id": "aLGCy17rcSwA"
      },
      "execution_count": 11,
      "outputs": []
    },
    {
      "cell_type": "markdown",
      "source": [
        "Turning birthdate into age so we can use it as a variable"
      ],
      "metadata": {
        "id": "vKD6rnepchfy"
      }
    },
    {
      "cell_type": "code",
      "source": [
        "config_df['age'] = pd.to_datetime(config_df.birthdate)\n",
        "\n",
        "def from_dob_to_age(born):\n",
        "    today = date.today()\n",
        "    return today.year - born.year - ((today.month, today.day) < (born.month, born.day))\n",
        "\n",
        "config_df['realage'] = config_df['age'].apply(lambda x: from_dob_to_age(x))\n",
        "config_df.drop(['age', 'birthdate'], axis=1, inplace=True)"
      ],
      "metadata": {
        "id": "btxN7qI3ciuh"
      },
      "execution_count": 13,
      "outputs": []
    },
    {
      "cell_type": "markdown",
      "source": [
        "We need to change variables: loanamount and totaldue to floats instead of objects"
      ],
      "metadata": {
        "id": "oLBS2f-Vc2Rd"
      }
    },
    {
      "cell_type": "code",
      "source": [
        "config_df.dtypes\n",
        "config_df['loanamount'].isna().sum()\n",
        "config_df['totaldue'].isna().sum()\n",
        "\n",
        "config_df['loanamount'] = pd.to_numeric(config_df['loanamount'],errors = 'coerce')\n",
        "config_df['totaldue'] = pd.to_numeric(config_df['totaldue'],errors = 'coerce')\n"
      ],
      "metadata": {
        "id": "Se6ltecPcz_0"
      },
      "execution_count": 15,
      "outputs": []
    },
    {
      "cell_type": "markdown",
      "source": [
        "Now we are going to try and find out with latitude and longitude the places where our clients are. Refer to our github Geocoder file"
      ],
      "metadata": {
        "id": "4RpnH-6gdJqx"
      }
    },
    {
      "cell_type": "markdown",
      "source": [
        "\n",
        "\n",
        "```\n",
        "# Code used but ultimately dropped the columns & variables\n",
        "\n",
        "import geocoder\n",
        "config_df['lat'].dropna()\n",
        "config_df['long'].dropna()\n",
        "config_df['latitude_gps'] = pd.to_numeric(config_df['latitude_gps'])\n",
        "config_df['long'] = pd.to_numeric(config_df['long'], downcast=\"float\")\n",
        "def geo_rev(x):\n",
        "    g = geocoder.osm([x.lat, x.long], method='reverse').json\n",
        "    if g:\n",
        "        return g.get('country')\n",
        "    else:\n",
        "        return 'no country'\n",
        "        \n",
        "config_df[['lat', 'long']].apply(geo_rev, axis=1)\n",
        "```\n"
      ],
      "metadata": {
        "id": "RJFBvJrqdeGo"
      }
    },
    {
      "cell_type": "code",
      "source": [
        "config_df.drop(['latitude_gps', 'longitude_gps'], axis=1, inplace=True) "
      ],
      "metadata": {
        "id": "-l33szgVd2ur"
      },
      "execution_count": 18,
      "outputs": []
    },
    {
      "cell_type": "markdown",
      "source": [
        "Due to EDA, we know bank_branch_clients variable has a 99% of missing variables. We will convert bank_branch_clients to binary, has a bank branch or not\n",
        "\n",
        "\n",
        "\n",
        "\n"
      ],
      "metadata": {
        "id": "Qj1K_Mmnd542"
      }
    },
    {
      "cell_type": "code",
      "source": [
        "config_df['bank_branch_clients'].unique()\n",
        "config_df['bank_branch_clients'].describe()\n",
        "config_df['bank_branch_clients'].isna().sum()\n",
        "config_df['bank_branch_clients'] = config_df['bank_branch_clients'].fillna('Unknown')\n",
        "\n",
        "config_df['bank_branch_clients'] = config_df['bank_branch_clients'].apply(lambda x: 0 if x== 'Unknown' else 1) "
      ],
      "metadata": {
        "id": "8OXr17WheE2G"
      },
      "execution_count": 20,
      "outputs": []
    },
    {
      "cell_type": "code",
      "source": [
        "config_df.head()"
      ],
      "metadata": {
        "colab": {
          "base_uri": "https://localhost:8080/",
          "height": 357
        },
        "id": "GRxYy0AKeJW2",
        "outputId": "9494d25b-57a3-43fb-82f5-99483e3b496a"
      },
      "execution_count": 21,
      "outputs": [
        {
          "output_type": "execute_result",
          "data": {
            "text/plain": [
              "                         customerid bank_account_type bank_name_clients  \\\n",
              "0  8a858e135cb22031015cbafc76964ebd           Savings           GT Bank   \n",
              "1  8a858e275c7ea5ec015c82482d7c3996           Savings     Sterling Bank   \n",
              "2  8a858e5b5bd99460015bdc95cd485634           Savings     Fidelity Bank   \n",
              "3  8a858efd5ca70688015cabd1f1e94b55           Savings           GT Bank   \n",
              "4  8a858ea05a859123015a8892914d15b7           Savings       Access Bank   \n",
              "\n",
              "   bank_branch_clients employment_status_clients level_of_education_clients  \\\n",
              "0                    1                       NaN                        NaN   \n",
              "1                    1                 Permanent                        NaN   \n",
              "2                    1                       NaN                        NaN   \n",
              "3                    1                 Permanent                        NaN   \n",
              "4                    1                 Permanent                        NaN   \n",
              "\n",
              "   systemloanid  loannumber                approveddate  \\\n",
              "0     301964962           2  2017-07-05 14:29:48.000000   \n",
              "1     301972172           2  2017-07-10 21:21:46.000000   \n",
              "2     301976271           4  2017-07-13 15:40:27.000000   \n",
              "3     301997763           2  2017-07-26 21:03:17.000000   \n",
              "4     301992494           6  2017-07-23 21:44:43.000000   \n",
              "\n",
              "                 creationdate  loanamount  totaldue  termdays  good_bad_flag  \\\n",
              "0  2017-07-05 13:29:42.000000     10000.0   13000.0        30              1   \n",
              "1  2017-07-10 20:21:40.000000     10000.0   13000.0        30              0   \n",
              "2  2017-07-13 14:40:19.000000     10000.0   13000.0        30              1   \n",
              "3  2017-07-26 20:03:09.000000     10000.0   11500.0        15              1   \n",
              "4  2017-07-23 20:44:36.000000     20000.0   24500.0        30              1   \n",
              "\n",
              "   referred  realage  \n",
              "0         1       48  \n",
              "1         0       36  \n",
              "2         0       35  \n",
              "3         0       30  \n",
              "4         0       31  "
            ],
            "text/html": [
              "\n",
              "  <div id=\"df-0380bd90-aa0f-4095-89d5-2c7d634ae62e\">\n",
              "    <div class=\"colab-df-container\">\n",
              "      <div>\n",
              "<style scoped>\n",
              "    .dataframe tbody tr th:only-of-type {\n",
              "        vertical-align: middle;\n",
              "    }\n",
              "\n",
              "    .dataframe tbody tr th {\n",
              "        vertical-align: top;\n",
              "    }\n",
              "\n",
              "    .dataframe thead th {\n",
              "        text-align: right;\n",
              "    }\n",
              "</style>\n",
              "<table border=\"1\" class=\"dataframe\">\n",
              "  <thead>\n",
              "    <tr style=\"text-align: right;\">\n",
              "      <th></th>\n",
              "      <th>customerid</th>\n",
              "      <th>bank_account_type</th>\n",
              "      <th>bank_name_clients</th>\n",
              "      <th>bank_branch_clients</th>\n",
              "      <th>employment_status_clients</th>\n",
              "      <th>level_of_education_clients</th>\n",
              "      <th>systemloanid</th>\n",
              "      <th>loannumber</th>\n",
              "      <th>approveddate</th>\n",
              "      <th>creationdate</th>\n",
              "      <th>loanamount</th>\n",
              "      <th>totaldue</th>\n",
              "      <th>termdays</th>\n",
              "      <th>good_bad_flag</th>\n",
              "      <th>referred</th>\n",
              "      <th>realage</th>\n",
              "    </tr>\n",
              "  </thead>\n",
              "  <tbody>\n",
              "    <tr>\n",
              "      <th>0</th>\n",
              "      <td>8a858e135cb22031015cbafc76964ebd</td>\n",
              "      <td>Savings</td>\n",
              "      <td>GT Bank</td>\n",
              "      <td>1</td>\n",
              "      <td>NaN</td>\n",
              "      <td>NaN</td>\n",
              "      <td>301964962</td>\n",
              "      <td>2</td>\n",
              "      <td>2017-07-05 14:29:48.000000</td>\n",
              "      <td>2017-07-05 13:29:42.000000</td>\n",
              "      <td>10000.0</td>\n",
              "      <td>13000.0</td>\n",
              "      <td>30</td>\n",
              "      <td>1</td>\n",
              "      <td>1</td>\n",
              "      <td>48</td>\n",
              "    </tr>\n",
              "    <tr>\n",
              "      <th>1</th>\n",
              "      <td>8a858e275c7ea5ec015c82482d7c3996</td>\n",
              "      <td>Savings</td>\n",
              "      <td>Sterling Bank</td>\n",
              "      <td>1</td>\n",
              "      <td>Permanent</td>\n",
              "      <td>NaN</td>\n",
              "      <td>301972172</td>\n",
              "      <td>2</td>\n",
              "      <td>2017-07-10 21:21:46.000000</td>\n",
              "      <td>2017-07-10 20:21:40.000000</td>\n",
              "      <td>10000.0</td>\n",
              "      <td>13000.0</td>\n",
              "      <td>30</td>\n",
              "      <td>0</td>\n",
              "      <td>0</td>\n",
              "      <td>36</td>\n",
              "    </tr>\n",
              "    <tr>\n",
              "      <th>2</th>\n",
              "      <td>8a858e5b5bd99460015bdc95cd485634</td>\n",
              "      <td>Savings</td>\n",
              "      <td>Fidelity Bank</td>\n",
              "      <td>1</td>\n",
              "      <td>NaN</td>\n",
              "      <td>NaN</td>\n",
              "      <td>301976271</td>\n",
              "      <td>4</td>\n",
              "      <td>2017-07-13 15:40:27.000000</td>\n",
              "      <td>2017-07-13 14:40:19.000000</td>\n",
              "      <td>10000.0</td>\n",
              "      <td>13000.0</td>\n",
              "      <td>30</td>\n",
              "      <td>1</td>\n",
              "      <td>0</td>\n",
              "      <td>35</td>\n",
              "    </tr>\n",
              "    <tr>\n",
              "      <th>3</th>\n",
              "      <td>8a858efd5ca70688015cabd1f1e94b55</td>\n",
              "      <td>Savings</td>\n",
              "      <td>GT Bank</td>\n",
              "      <td>1</td>\n",
              "      <td>Permanent</td>\n",
              "      <td>NaN</td>\n",
              "      <td>301997763</td>\n",
              "      <td>2</td>\n",
              "      <td>2017-07-26 21:03:17.000000</td>\n",
              "      <td>2017-07-26 20:03:09.000000</td>\n",
              "      <td>10000.0</td>\n",
              "      <td>11500.0</td>\n",
              "      <td>15</td>\n",
              "      <td>1</td>\n",
              "      <td>0</td>\n",
              "      <td>30</td>\n",
              "    </tr>\n",
              "    <tr>\n",
              "      <th>4</th>\n",
              "      <td>8a858ea05a859123015a8892914d15b7</td>\n",
              "      <td>Savings</td>\n",
              "      <td>Access Bank</td>\n",
              "      <td>1</td>\n",
              "      <td>Permanent</td>\n",
              "      <td>NaN</td>\n",
              "      <td>301992494</td>\n",
              "      <td>6</td>\n",
              "      <td>2017-07-23 21:44:43.000000</td>\n",
              "      <td>2017-07-23 20:44:36.000000</td>\n",
              "      <td>20000.0</td>\n",
              "      <td>24500.0</td>\n",
              "      <td>30</td>\n",
              "      <td>1</td>\n",
              "      <td>0</td>\n",
              "      <td>31</td>\n",
              "    </tr>\n",
              "  </tbody>\n",
              "</table>\n",
              "</div>\n",
              "      <button class=\"colab-df-convert\" onclick=\"convertToInteractive('df-0380bd90-aa0f-4095-89d5-2c7d634ae62e')\"\n",
              "              title=\"Convert this dataframe to an interactive table.\"\n",
              "              style=\"display:none;\">\n",
              "        \n",
              "  <svg xmlns=\"http://www.w3.org/2000/svg\" height=\"24px\"viewBox=\"0 0 24 24\"\n",
              "       width=\"24px\">\n",
              "    <path d=\"M0 0h24v24H0V0z\" fill=\"none\"/>\n",
              "    <path d=\"M18.56 5.44l.94 2.06.94-2.06 2.06-.94-2.06-.94-.94-2.06-.94 2.06-2.06.94zm-11 1L8.5 8.5l.94-2.06 2.06-.94-2.06-.94L8.5 2.5l-.94 2.06-2.06.94zm10 10l.94 2.06.94-2.06 2.06-.94-2.06-.94-.94-2.06-.94 2.06-2.06.94z\"/><path d=\"M17.41 7.96l-1.37-1.37c-.4-.4-.92-.59-1.43-.59-.52 0-1.04.2-1.43.59L10.3 9.45l-7.72 7.72c-.78.78-.78 2.05 0 2.83L4 21.41c.39.39.9.59 1.41.59.51 0 1.02-.2 1.41-.59l7.78-7.78 2.81-2.81c.8-.78.8-2.07 0-2.86zM5.41 20L4 18.59l7.72-7.72 1.47 1.35L5.41 20z\"/>\n",
              "  </svg>\n",
              "      </button>\n",
              "      \n",
              "  <style>\n",
              "    .colab-df-container {\n",
              "      display:flex;\n",
              "      flex-wrap:wrap;\n",
              "      gap: 12px;\n",
              "    }\n",
              "\n",
              "    .colab-df-convert {\n",
              "      background-color: #E8F0FE;\n",
              "      border: none;\n",
              "      border-radius: 50%;\n",
              "      cursor: pointer;\n",
              "      display: none;\n",
              "      fill: #1967D2;\n",
              "      height: 32px;\n",
              "      padding: 0 0 0 0;\n",
              "      width: 32px;\n",
              "    }\n",
              "\n",
              "    .colab-df-convert:hover {\n",
              "      background-color: #E2EBFA;\n",
              "      box-shadow: 0px 1px 2px rgba(60, 64, 67, 0.3), 0px 1px 3px 1px rgba(60, 64, 67, 0.15);\n",
              "      fill: #174EA6;\n",
              "    }\n",
              "\n",
              "    [theme=dark] .colab-df-convert {\n",
              "      background-color: #3B4455;\n",
              "      fill: #D2E3FC;\n",
              "    }\n",
              "\n",
              "    [theme=dark] .colab-df-convert:hover {\n",
              "      background-color: #434B5C;\n",
              "      box-shadow: 0px 1px 3px 1px rgba(0, 0, 0, 0.15);\n",
              "      filter: drop-shadow(0px 1px 2px rgba(0, 0, 0, 0.3));\n",
              "      fill: #FFFFFF;\n",
              "    }\n",
              "  </style>\n",
              "\n",
              "      <script>\n",
              "        const buttonEl =\n",
              "          document.querySelector('#df-0380bd90-aa0f-4095-89d5-2c7d634ae62e button.colab-df-convert');\n",
              "        buttonEl.style.display =\n",
              "          google.colab.kernel.accessAllowed ? 'block' : 'none';\n",
              "\n",
              "        async function convertToInteractive(key) {\n",
              "          const element = document.querySelector('#df-0380bd90-aa0f-4095-89d5-2c7d634ae62e');\n",
              "          const dataTable =\n",
              "            await google.colab.kernel.invokeFunction('convertToInteractive',\n",
              "                                                     [key], {});\n",
              "          if (!dataTable) return;\n",
              "\n",
              "          const docLinkHtml = 'Like what you see? Visit the ' +\n",
              "            '<a target=\"_blank\" href=https://colab.research.google.com/notebooks/data_table.ipynb>data table notebook</a>'\n",
              "            + ' to learn more about interactive tables.';\n",
              "          element.innerHTML = '';\n",
              "          dataTable['output_type'] = 'display_data';\n",
              "          await google.colab.output.renderOutput(dataTable, element);\n",
              "          const docLink = document.createElement('div');\n",
              "          docLink.innerHTML = docLinkHtml;\n",
              "          element.appendChild(docLink);\n",
              "        }\n",
              "      </script>\n",
              "    </div>\n",
              "  </div>\n",
              "  "
            ]
          },
          "metadata": {},
          "execution_count": 21
        }
      ]
    },
    {
      "cell_type": "markdown",
      "source": [
        "Making a transformation, and finding out the interest/rate of the loan. Counting how the rate of the loan is now\n"
      ],
      "metadata": {
        "id": "Ss7lBOhOeRiI"
      }
    },
    {
      "cell_type": "code",
      "source": [
        "config_df['TipoInteresAhora'] = ((config_df['totaldue'] - config_df['loanamount']) / (config_df['loanamount'] * config_df['termdays']))*100"
      ],
      "metadata": {
        "id": "kH95F-2GeRHJ"
      },
      "execution_count": 23,
      "outputs": []
    },
    {
      "cell_type": "markdown",
      "source": [
        "Making a transformation between creation date and approved date. We leave the code here, that attempts where made to extract insights but, there was no insight as the difference was too small and there was no variation"
      ],
      "metadata": {
        "id": "mesN9-5_e59s"
      }
    },
    {
      "cell_type": "markdown",
      "source": [
        "\n",
        "\n",
        "```\n",
        "# Code used but ultimately dropped the columns & variables\n",
        "\n",
        "Time difference between approveddate - creationdate and\n",
        " test dataframe; the columns must be in a datetime format;# test dataframe; the columns must be in a datetime format;\n",
        "for col in config_df.columns:\n",
        "    if config_df[col].dtype == 'object':\n",
        "        try:\n",
        "            config_df[col] = pd.to_datetime(config_df[col])\n",
        "        except ValueError:\n",
        "            pass\n",
        "\n",
        "config_df.dtypes\n",
        "config_df['difference_time'] = (config_df.approveddate - config_df.creationdate)\n",
        "#Create a column with timedelta as total hours, as a float type\n",
        "config_df['tot_hour_diff'] = (config_df.approveddate - config_df.creationdate) / pd.Timedelta(hours=1)\n",
        "#(This last column is in hours)\n",
        "config_df.drop(['difference_time', 'approveddate', 'creationdate'], axis=1, inplace=True) \n",
        "config_df['tot_hour_diff'].describe()\n",
        "```\n",
        "\n"
      ],
      "metadata": {
        "id": "J08XB61bfY2q"
      }
    },
    {
      "cell_type": "code",
      "source": [
        "config_df.drop(['creationdate', 'approveddate'], axis=1, inplace=True) "
      ],
      "metadata": {
        "id": "fQkVkNgvfpJy"
      },
      "execution_count": 24,
      "outputs": []
    },
    {
      "cell_type": "markdown",
      "source": [
        "Now, we will use onehotencoding to make categorical data into numerical \n",
        "Firstly, we will be reprocessing to be able to do it and nan valueswill be transformed into another category 'Unknown'"
      ],
      "metadata": {
        "id": "1lE1BM7mh8Zl"
      }
    },
    {
      "cell_type": "code",
      "source": [
        "#Bank account type variable\n",
        "print(config_df['bank_account_type'].unique())\n",
        "config_df['bank_account_type'].isna().sum()"
      ],
      "metadata": {
        "colab": {
          "base_uri": "https://localhost:8080/"
        },
        "id": "H_D6C0aniI6X",
        "outputId": "7aa8c8ff-ab1e-43a3-eaf6-3fbd9b518a48"
      },
      "execution_count": 28,
      "outputs": [
        {
          "output_type": "stream",
          "name": "stdout",
          "text": [
            "['Savings' 'Other' 'Current']\n"
          ]
        },
        {
          "output_type": "execute_result",
          "data": {
            "text/plain": [
              "0"
            ]
          },
          "metadata": {},
          "execution_count": 28
        }
      ]
    },
    {
      "cell_type": "code",
      "source": [
        "#Bank name clients variable\n",
        "print(config_df['bank_name_clients'].unique())\n",
        "config_df['bank_name_clients'].isna().sum()"
      ],
      "metadata": {
        "colab": {
          "base_uri": "https://localhost:8080/"
        },
        "id": "oQg5TBfhiOBv",
        "outputId": "a7c4346a-6e1a-4bbe-8142-f3e0a2f650d7"
      },
      "execution_count": 29,
      "outputs": [
        {
          "output_type": "stream",
          "name": "stdout",
          "text": [
            "['GT Bank' 'Sterling Bank' 'Fidelity Bank' 'Access Bank' 'EcoBank' 'FCMB'\n",
            " 'Skye Bank' 'UBA' 'Diamond Bank' 'Zenith Bank' 'First Bank' 'Union Bank'\n",
            " 'Stanbic IBTC' 'Standard Chartered' 'Heritage Bank' 'Keystone Bank'\n",
            " 'Unity Bank' 'Wema Bank']\n"
          ]
        },
        {
          "output_type": "execute_result",
          "data": {
            "text/plain": [
              "0"
            ]
          },
          "metadata": {},
          "execution_count": 29
        }
      ]
    },
    {
      "cell_type": "code",
      "source": [
        "#Employment status clients variable\n",
        "#print(config_df['employment_status_clients'].unique())\n",
        "config_df['employment_status_clients'].describe()\n",
        "config_df['employment_status_clients'].isna().sum()\n",
        "config_df['employment_status_clients'] = config_df['employment_status_clients'].fillna('Unknown')\n",
        "print(config_df['employment_status_clients'].unique())\n"
      ],
      "metadata": {
        "colab": {
          "base_uri": "https://localhost:8080/"
        },
        "id": "hUz1PQA0iZ7M",
        "outputId": "f975b4c0-7e77-4302-ea00-f4a6400537f7"
      },
      "execution_count": 32,
      "outputs": [
        {
          "output_type": "stream",
          "name": "stdout",
          "text": [
            "['Unknown' 'Permanent' 'Student' 'Self-Employed' 'Unemployed' 'Retired'\n",
            " 'Contract']\n"
          ]
        }
      ]
    },
    {
      "cell_type": "code",
      "source": [
        "#Level of education clients variable\n",
        "#print(config_df['level_of_education_clients'].unique())\n",
        "config_df['level_of_education_clients'].describe()\n",
        "config_df['level_of_education_clients'].isna().sum()\n",
        "config_df['level_of_education_clients'] = config_df['level_of_education_clients'].fillna('Unknown')\n",
        "print(config_df['level_of_education_clients'].unique())\n"
      ],
      "metadata": {
        "colab": {
          "base_uri": "https://localhost:8080/"
        },
        "id": "Sh6RKZk8ioHa",
        "outputId": "b7b8786a-a5db-4f69-8ead-6dbb5ca20d61"
      },
      "execution_count": 34,
      "outputs": [
        {
          "output_type": "stream",
          "name": "stdout",
          "text": [
            "['Unknown' 'Secondary' 'Graduate' 'Post-Graduate' 'Primary']\n"
          ]
        }
      ]
    },
    {
      "cell_type": "markdown",
      "source": [
        "Putting all categorical values into a separate dataframe to make onehotencoding\n",
        "\n",
        "\n"
      ],
      "metadata": {
        "id": "rtpHkT5si1_2"
      }
    },
    {
      "cell_type": "code",
      "source": [
        "encoded_df = config_df[['bank_account_type', 'bank_name_clients', 'employment_status_clients', 'level_of_education_clients']].copy()"
      ],
      "metadata": {
        "id": "CYz0t_oni6Zs"
      },
      "execution_count": 35,
      "outputs": []
    },
    {
      "cell_type": "code",
      "source": [
        "#OneHotEncoding\n",
        "ohe = OneHotEncoder(sparse = False)\n",
        "ohe_fit = ohe.fit(encoded_df)\n",
        "X_ohe = pd.DataFrame(ohe.fit_transform(encoded_df))\n",
        "X_ohe.columns = pd.DataFrame(ohe_fit.get_feature_names())\n",
        "ohe.get_feature_names()"
      ],
      "metadata": {
        "colab": {
          "base_uri": "https://localhost:8080/"
        },
        "id": "Rj8CJ2kIi910",
        "outputId": "44ab5aa0-46c8-4b03-c6de-73ecdcea4a5f"
      },
      "execution_count": 36,
      "outputs": [
        {
          "output_type": "stream",
          "name": "stderr",
          "text": [
            "/usr/local/lib/python3.7/dist-packages/sklearn/utils/deprecation.py:87: FutureWarning: Function get_feature_names is deprecated; get_feature_names is deprecated in 1.0 and will be removed in 1.2. Please use get_feature_names_out instead.\n",
            "  warnings.warn(msg, category=FutureWarning)\n"
          ]
        },
        {
          "output_type": "execute_result",
          "data": {
            "text/plain": [
              "array(['x0_Current', 'x0_Other', 'x0_Savings', 'x1_Access Bank',\n",
              "       'x1_Diamond Bank', 'x1_EcoBank', 'x1_FCMB', 'x1_Fidelity Bank',\n",
              "       'x1_First Bank', 'x1_GT Bank', 'x1_Heritage Bank',\n",
              "       'x1_Keystone Bank', 'x1_Skye Bank', 'x1_Stanbic IBTC',\n",
              "       'x1_Standard Chartered', 'x1_Sterling Bank', 'x1_UBA',\n",
              "       'x1_Union Bank', 'x1_Unity Bank', 'x1_Wema Bank', 'x1_Zenith Bank',\n",
              "       'x2_Contract', 'x2_Permanent', 'x2_Retired', 'x2_Self-Employed',\n",
              "       'x2_Student', 'x2_Unemployed', 'x2_Unknown', 'x3_Graduate',\n",
              "       'x3_Post-Graduate', 'x3_Primary', 'x3_Secondary', 'x3_Unknown'],\n",
              "      dtype=object)"
            ]
          },
          "metadata": {},
          "execution_count": 36
        }
      ]
    },
    {
      "cell_type": "markdown",
      "source": [
        "Renaming after onehot encoding"
      ],
      "metadata": {
        "id": "8RQyrhmrjSDB"
      }
    },
    {
      "cell_type": "code",
      "source": [
        "#Renaming bank account type\n",
        "bank_account_df = X_ohe.copy()\n",
        "bank_account_df.drop(bank_account_df.iloc[:, 3:], inplace = True, axis = 1)\n",
        "\n",
        "#To take out the tuple of thee name column \n",
        "def rename(col):\n",
        "    if isinstance(col, tuple):\n",
        "        col = '_'.join(str(c) for c in col)\n",
        "    return col\n",
        "\n",
        "\n",
        "bank_account_df.columns = map(rename, bank_account_df.columns)\n",
        "bank_account_df.columns = bank_account_df.columns.str.replace('x0', 'bank_account')\n",
        "#print(bank_account_df)"
      ],
      "metadata": {
        "colab": {
          "base_uri": "https://localhost:8080/"
        },
        "id": "oi1JZd5ljWjP",
        "outputId": "a2c01411-c9e1-4a62-fda3-7c9cb00f0e7e"
      },
      "execution_count": 40,
      "outputs": [
        {
          "output_type": "stream",
          "name": "stdout",
          "text": [
            "      bank_account_Current  bank_account_Other  bank_account_Savings\n",
            "0                      0.0                 0.0                   1.0\n",
            "1                      0.0                 0.0                   1.0\n",
            "2                      0.0                 0.0                   1.0\n",
            "3                      0.0                 0.0                   1.0\n",
            "4                      0.0                 0.0                   1.0\n",
            "...                    ...                 ...                   ...\n",
            "3272                   0.0                 0.0                   1.0\n",
            "3273                   0.0                 0.0                   1.0\n",
            "3274                   0.0                 1.0                   0.0\n",
            "3275                   0.0                 1.0                   0.0\n",
            "3276                   0.0                 0.0                   1.0\n",
            "\n",
            "[3277 rows x 3 columns]\n"
          ]
        }
      ]
    },
    {
      "cell_type": "code",
      "source": [
        "#Renaming level of education clients\n",
        "level_of_edu_df = X_ohe.copy()\n",
        "level_of_edu_df.drop(level_of_edu_df.iloc[:, :-5], inplace = True, axis = 1)\n",
        "level_of_edu_df.columns = map(rename, level_of_edu_df.columns)\n",
        "level_of_edu_df.columns = level_of_edu_df.columns.str.replace('x3', 'level_of_education_clients')\n",
        "print(level_of_edu_df)"
      ],
      "metadata": {
        "colab": {
          "base_uri": "https://localhost:8080/"
        },
        "id": "pRPdDGSMjh3R",
        "outputId": "31a3e3f3-fb01-4b90-9529-166c2bd1d6c9"
      },
      "execution_count": 41,
      "outputs": [
        {
          "output_type": "stream",
          "name": "stdout",
          "text": [
            "      level_of_education_clients_Graduate  \\\n",
            "0                                     0.0   \n",
            "1                                     0.0   \n",
            "2                                     0.0   \n",
            "3                                     0.0   \n",
            "4                                     0.0   \n",
            "...                                   ...   \n",
            "3272                                  0.0   \n",
            "3273                                  0.0   \n",
            "3274                                  0.0   \n",
            "3275                                  1.0   \n",
            "3276                                  0.0   \n",
            "\n",
            "      level_of_education_clients_Post-Graduate  \\\n",
            "0                                          0.0   \n",
            "1                                          0.0   \n",
            "2                                          0.0   \n",
            "3                                          0.0   \n",
            "4                                          0.0   \n",
            "...                                        ...   \n",
            "3272                                       0.0   \n",
            "3273                                       0.0   \n",
            "3274                                       0.0   \n",
            "3275                                       0.0   \n",
            "3276                                       0.0   \n",
            "\n",
            "      level_of_education_clients_Primary  \\\n",
            "0                                    0.0   \n",
            "1                                    0.0   \n",
            "2                                    0.0   \n",
            "3                                    0.0   \n",
            "4                                    0.0   \n",
            "...                                  ...   \n",
            "3272                                 0.0   \n",
            "3273                                 0.0   \n",
            "3274                                 0.0   \n",
            "3275                                 0.0   \n",
            "3276                                 0.0   \n",
            "\n",
            "      level_of_education_clients_Secondary  level_of_education_clients_Unknown  \n",
            "0                                      0.0                                 1.0  \n",
            "1                                      0.0                                 1.0  \n",
            "2                                      0.0                                 1.0  \n",
            "3                                      0.0                                 1.0  \n",
            "4                                      0.0                                 1.0  \n",
            "...                                    ...                                 ...  \n",
            "3272                                   0.0                                 1.0  \n",
            "3273                                   0.0                                 1.0  \n",
            "3274                                   0.0                                 1.0  \n",
            "3275                                   0.0                                 0.0  \n",
            "3276                                   0.0                                 1.0  \n",
            "\n",
            "[3277 rows x 5 columns]\n"
          ]
        }
      ]
    },
    {
      "cell_type": "code",
      "source": [
        "#Renaming employment status clients\n",
        "employment_status_client_df = X_ohe.copy()\n",
        "employment_status_client_df = employment_status_client_df.iloc[:, 21:28]\n",
        "employment_status_client_df.columns = map(rename, employment_status_client_df.columns)\n",
        "employment_status_client_df.columns = employment_status_client_df.columns.str.replace('x2', 'employment_status_client')\n",
        "print(employment_status_client_df)"
      ],
      "metadata": {
        "colab": {
          "base_uri": "https://localhost:8080/"
        },
        "id": "A_irR8tzjsrT",
        "outputId": "3afb4e79-bcaa-4307-dfd7-071084ce6ef3"
      },
      "execution_count": 42,
      "outputs": [
        {
          "output_type": "stream",
          "name": "stdout",
          "text": [
            "      employment_status_client_Contract  employment_status_client_Permanent  \\\n",
            "0                                   0.0                                 0.0   \n",
            "1                                   0.0                                 1.0   \n",
            "2                                   0.0                                 0.0   \n",
            "3                                   0.0                                 1.0   \n",
            "4                                   0.0                                 1.0   \n",
            "...                                 ...                                 ...   \n",
            "3272                                0.0                                 1.0   \n",
            "3273                                0.0                                 0.0   \n",
            "3274                                0.0                                 0.0   \n",
            "3275                                0.0                                 1.0   \n",
            "3276                                0.0                                 0.0   \n",
            "\n",
            "      employment_status_client_Retired  \\\n",
            "0                                  0.0   \n",
            "1                                  0.0   \n",
            "2                                  0.0   \n",
            "3                                  0.0   \n",
            "4                                  0.0   \n",
            "...                                ...   \n",
            "3272                               0.0   \n",
            "3273                               0.0   \n",
            "3274                               0.0   \n",
            "3275                               0.0   \n",
            "3276                               0.0   \n",
            "\n",
            "      employment_status_client_Self-Employed  \\\n",
            "0                                        0.0   \n",
            "1                                        0.0   \n",
            "2                                        0.0   \n",
            "3                                        0.0   \n",
            "4                                        0.0   \n",
            "...                                      ...   \n",
            "3272                                     0.0   \n",
            "3273                                     0.0   \n",
            "3274                                     1.0   \n",
            "3275                                     0.0   \n",
            "3276                                     0.0   \n",
            "\n",
            "      employment_status_client_Student  employment_status_client_Unemployed  \\\n",
            "0                                  0.0                                  0.0   \n",
            "1                                  0.0                                  0.0   \n",
            "2                                  0.0                                  0.0   \n",
            "3                                  0.0                                  0.0   \n",
            "4                                  0.0                                  0.0   \n",
            "...                                ...                                  ...   \n",
            "3272                               0.0                                  0.0   \n",
            "3273                               0.0                                  0.0   \n",
            "3274                               0.0                                  0.0   \n",
            "3275                               0.0                                  0.0   \n",
            "3276                               0.0                                  0.0   \n",
            "\n",
            "      employment_status_client_Unknown  \n",
            "0                                  1.0  \n",
            "1                                  0.0  \n",
            "2                                  1.0  \n",
            "3                                  0.0  \n",
            "4                                  0.0  \n",
            "...                                ...  \n",
            "3272                               0.0  \n",
            "3273                               1.0  \n",
            "3274                               0.0  \n",
            "3275                               0.0  \n",
            "3276                               1.0  \n",
            "\n",
            "[3277 rows x 7 columns]\n"
          ]
        }
      ]
    },
    {
      "cell_type": "code",
      "source": [
        "#Renaming bank name clients\n",
        "bank_name_client_df = X_ohe.copy()\n",
        "bank_name_client_df = bank_name_client_df.iloc[:, 3:21]\n",
        "bank_name_client_df.columns = map(rename, bank_name_client_df.columns)\n",
        "bank_name_client_df.columns = bank_name_client_df.columns.str.replace('x1', 'bank_name_client')\n",
        "print(bank_name_client_df)"
      ],
      "metadata": {
        "colab": {
          "base_uri": "https://localhost:8080/"
        },
        "id": "68H_gjjpj17N",
        "outputId": "1a90b045-8f08-4346-c928-c8b1d95bd0a6"
      },
      "execution_count": 43,
      "outputs": [
        {
          "output_type": "stream",
          "name": "stdout",
          "text": [
            "      bank_name_client_Access Bank  bank_name_client_Diamond Bank  \\\n",
            "0                              0.0                            0.0   \n",
            "1                              0.0                            0.0   \n",
            "2                              0.0                            0.0   \n",
            "3                              0.0                            0.0   \n",
            "4                              1.0                            0.0   \n",
            "...                            ...                            ...   \n",
            "3272                           0.0                            0.0   \n",
            "3273                           0.0                            0.0   \n",
            "3274                           0.0                            0.0   \n",
            "3275                           0.0                            0.0   \n",
            "3276                           0.0                            0.0   \n",
            "\n",
            "      bank_name_client_EcoBank  bank_name_client_FCMB  \\\n",
            "0                          0.0                    0.0   \n",
            "1                          0.0                    0.0   \n",
            "2                          0.0                    0.0   \n",
            "3                          0.0                    0.0   \n",
            "4                          0.0                    0.0   \n",
            "...                        ...                    ...   \n",
            "3272                       0.0                    0.0   \n",
            "3273                       0.0                    0.0   \n",
            "3274                       0.0                    0.0   \n",
            "3275                       0.0                    0.0   \n",
            "3276                       0.0                    0.0   \n",
            "\n",
            "      bank_name_client_Fidelity Bank  bank_name_client_First Bank  \\\n",
            "0                                0.0                          0.0   \n",
            "1                                0.0                          0.0   \n",
            "2                                1.0                          0.0   \n",
            "3                                0.0                          0.0   \n",
            "4                                0.0                          0.0   \n",
            "...                              ...                          ...   \n",
            "3272                             0.0                          0.0   \n",
            "3273                             0.0                          0.0   \n",
            "3274                             0.0                          0.0   \n",
            "3275                             0.0                          0.0   \n",
            "3276                             0.0                          0.0   \n",
            "\n",
            "      bank_name_client_GT Bank  bank_name_client_Heritage Bank  \\\n",
            "0                          1.0                             0.0   \n",
            "1                          0.0                             0.0   \n",
            "2                          0.0                             0.0   \n",
            "3                          1.0                             0.0   \n",
            "4                          0.0                             0.0   \n",
            "...                        ...                             ...   \n",
            "3272                       1.0                             0.0   \n",
            "3273                       1.0                             0.0   \n",
            "3274                       0.0                             0.0   \n",
            "3275                       0.0                             0.0   \n",
            "3276                       1.0                             0.0   \n",
            "\n",
            "      bank_name_client_Keystone Bank  bank_name_client_Skye Bank  \\\n",
            "0                                0.0                         0.0   \n",
            "1                                0.0                         0.0   \n",
            "2                                0.0                         0.0   \n",
            "3                                0.0                         0.0   \n",
            "4                                0.0                         0.0   \n",
            "...                              ...                         ...   \n",
            "3272                             0.0                         0.0   \n",
            "3273                             0.0                         0.0   \n",
            "3274                             0.0                         0.0   \n",
            "3275                             0.0                         0.0   \n",
            "3276                             0.0                         0.0   \n",
            "\n",
            "      bank_name_client_Stanbic IBTC  bank_name_client_Standard Chartered  \\\n",
            "0                               0.0                                  0.0   \n",
            "1                               0.0                                  0.0   \n",
            "2                               0.0                                  0.0   \n",
            "3                               0.0                                  0.0   \n",
            "4                               0.0                                  0.0   \n",
            "...                             ...                                  ...   \n",
            "3272                            0.0                                  0.0   \n",
            "3273                            0.0                                  0.0   \n",
            "3274                            0.0                                  0.0   \n",
            "3275                            1.0                                  0.0   \n",
            "3276                            0.0                                  0.0   \n",
            "\n",
            "      bank_name_client_Sterling Bank  bank_name_client_UBA  \\\n",
            "0                                0.0                   0.0   \n",
            "1                                1.0                   0.0   \n",
            "2                                0.0                   0.0   \n",
            "3                                0.0                   0.0   \n",
            "4                                0.0                   0.0   \n",
            "...                              ...                   ...   \n",
            "3272                             0.0                   0.0   \n",
            "3273                             0.0                   0.0   \n",
            "3274                             0.0                   1.0   \n",
            "3275                             0.0                   0.0   \n",
            "3276                             0.0                   0.0   \n",
            "\n",
            "      bank_name_client_Union Bank  bank_name_client_Unity Bank  \\\n",
            "0                             0.0                          0.0   \n",
            "1                             0.0                          0.0   \n",
            "2                             0.0                          0.0   \n",
            "3                             0.0                          0.0   \n",
            "4                             0.0                          0.0   \n",
            "...                           ...                          ...   \n",
            "3272                          0.0                          0.0   \n",
            "3273                          0.0                          0.0   \n",
            "3274                          0.0                          0.0   \n",
            "3275                          0.0                          0.0   \n",
            "3276                          0.0                          0.0   \n",
            "\n",
            "      bank_name_client_Wema Bank  bank_name_client_Zenith Bank  \n",
            "0                            0.0                           0.0  \n",
            "1                            0.0                           0.0  \n",
            "2                            0.0                           0.0  \n",
            "3                            0.0                           0.0  \n",
            "4                            0.0                           0.0  \n",
            "...                          ...                           ...  \n",
            "3272                         0.0                           0.0  \n",
            "3273                         0.0                           0.0  \n",
            "3274                         0.0                           0.0  \n",
            "3275                         0.0                           0.0  \n",
            "3276                         0.0                           0.0  \n",
            "\n",
            "[3277 rows x 18 columns]\n"
          ]
        }
      ]
    },
    {
      "cell_type": "markdown",
      "source": [
        "Join all the one hot encoded dataframes\n",
        "\n",
        "\n"
      ],
      "metadata": {
        "id": "4myz3It6kHjG"
      }
    },
    {
      "cell_type": "code",
      "source": [
        "result = pd.concat([bank_account_df, level_of_edu_df , bank_name_client_df, employment_status_client_df ], axis=1, join='inner')"
      ],
      "metadata": {
        "id": "YqgfGab5kG9O"
      },
      "execution_count": 44,
      "outputs": []
    },
    {
      "cell_type": "code",
      "source": [
        "#Delete auxiliaries dataframes\n",
        "del(encoded_df, bank_name_client_df , level_of_edu_df , bank_account_df, employment_status_client_df )\n",
        "#Check X_ohe dataframe is the same as result dataframe and delete\n",
        "del(X_ohe, ohe, ohe_fit)"
      ],
      "metadata": {
        "id": "Yx7MHAPTkQI4"
      },
      "execution_count": 45,
      "outputs": []
    },
    {
      "cell_type": "markdown",
      "source": [
        "Merge dataframes \n",
        "\n"
      ],
      "metadata": {
        "id": "k1yRqG2wknob"
      }
    },
    {
      "cell_type": "code",
      "source": [
        "config_df.drop(['bank_account_type', 'bank_name_clients', 'employment_status_clients', 'level_of_education_clients' ], axis=1, inplace=True) "
      ],
      "metadata": {
        "id": "9qt9ibdoks1O"
      },
      "execution_count": 46,
      "outputs": []
    },
    {
      "cell_type": "code",
      "source": [
        "#Merging config_df with one hot encoded dataframe\n",
        "merged_df = pd.concat([config_df, result ], axis=1, join='inner')"
      ],
      "metadata": {
        "id": "j5hbA-qfku98"
      },
      "execution_count": 47,
      "outputs": []
    },
    {
      "cell_type": "code",
      "source": [
        "#Delete auxiliaries dataframes\n",
        "del(config_df, result)"
      ],
      "metadata": {
        "id": "TW-_onZLk3d1"
      },
      "execution_count": 48,
      "outputs": []
    },
    {
      "cell_type": "markdown",
      "source": [
        "Now, lets work on the tr_prev_loan and make transformation to extract insights and not data."
      ],
      "metadata": {
        "id": "Y-fbvyo6mPbz"
      }
    },
    {
      "cell_type": "code",
      "source": [
        "for col in tr_prev_loan.columns:\n",
        "    if tr_prev_loan[col].dtype == 'object':\n",
        "        try:\n",
        "            tr_prev_loan[col] = pd.to_datetime(tr_prev_loan[col])\n",
        "        except ValueError:\n",
        "            pass"
      ],
      "metadata": {
        "id": "ioR7zoggmyi_"
      },
      "execution_count": 51,
      "outputs": []
    },
    {
      "cell_type": "code",
      "source": [
        "#We want to know how much in hours did they take to take up/use all the loan\n",
        "#closeddate - approveddate\n",
        "\n",
        "tr_prev_loan['how_long_loan_time'] = (tr_prev_loan.closeddate - tr_prev_loan.approveddate) # create a column with timedelta as total hours, as a float type\n",
        "tr_prev_loan['how_long_consumed_loan_time'] = (tr_prev_loan.closeddate - tr_prev_loan.approveddate) / pd.Timedelta(hours=1) #(This last column is in hours)\n",
        "tr_prev_loan['hours_termdays'] = tr_prev_loan['termdays'].apply(lambda x: x*24)\n",
        "tr_prev_loan['exceeds_loan_term_days'] = np.where((tr_prev_loan['hours_termdays'] >= tr_prev_loan['how_long_consumed_loan_time']), 0, 1) #Exceeds time 1, not exceed time 0\n",
        "tr_prev_loan.drop(['hours_termdays', 'how_long_consumed_loan_time', 'how_long_loan_time', 'closeddate', 'approveddate' ], axis=1, inplace=True) \n"
      ],
      "metadata": {
        "id": "v5iwJEKLlR_P"
      },
      "execution_count": 52,
      "outputs": []
    },
    {
      "cell_type": "code",
      "source": [
        "#Now, we want to know how much late did they pay the first time hence,\n",
        "# firstduedate - firstpaiddate\n",
        "\n",
        "tr_prev_loan['difference_time'] = (tr_prev_loan.firstduedate - tr_prev_loan.firstrepaiddate)\n",
        "# create a column with timedelta as total hours, as a float type\n",
        "tr_prev_loan['diff_duedate_paiddate'] = (tr_prev_loan.firstduedate - tr_prev_loan.firstrepaiddate) / pd.Timedelta(hours=1)\n",
        "#(This last column is in hours)\n",
        "tr_prev_loan['is_late_for_firstpay'] = [1 if x < 0 else 0 for x in tr_prev_loan.diff_duedate_paiddate]\n",
        "# 1 means he was late, 0 he was not\n",
        "tr_prev_loan.drop(['firstduedate', 'firstrepaiddate', 'difference_time', 'diff_duedate_paiddate' ], axis=1, inplace=True) \n",
        "\n"
      ],
      "metadata": {
        "id": "ABcb-9ZvnCn3"
      },
      "execution_count": 54,
      "outputs": []
    },
    {
      "cell_type": "markdown",
      "source": [
        "\n",
        "\n",
        "```\n",
        "# Code used but ultimately dropped the columns & variables\n",
        "\n",
        "#Which months where the loans asked for?\n",
        "\n",
        "tr_prev_loan['month_approved_loan'] = tr_prev_loan['approveddate'].dt.month_name()\n",
        "tr_prev_loan.drop(['creationdate'], axis=1, inplace=True) \n",
        "```\n",
        "\n"
      ],
      "metadata": {
        "id": "otREk4CYnahp"
      }
    },
    {
      "cell_type": "markdown",
      "source": [
        "Finally, we want to know how much interest/rate was given to the clients PREVIOUSLY for the amount given.\n",
        "\n",
        "\n"
      ],
      "metadata": {
        "id": "EphKFYurn2is"
      }
    },
    {
      "cell_type": "code",
      "source": [
        "tr_prev_loan['loanamount'] = pd.to_numeric(tr_prev_loan['loanamount'],errors = 'coerce')\n",
        "tr_prev_loan['totaldue'] = pd.to_numeric(tr_prev_loan['totaldue'],errors = 'coerce')\n",
        "#Calculating the interest given to the client\n",
        "tr_prev_loan['TipoInteres'] = ((tr_prev_loan['totaldue'] - tr_prev_loan['loanamount']) / (tr_prev_loan['loanamount'] * tr_prev_loan['termdays']))*100\n"
      ],
      "metadata": {
        "id": "sysoJkchn2Nt"
      },
      "execution_count": 56,
      "outputs": []
    },
    {
      "cell_type": "code",
      "source": [
        "#Dropping the variable systemloanid\n",
        "merged_df.drop(['systemloanid'], axis=1, inplace=True) "
      ],
      "metadata": {
        "id": "08DIYSJ-n_81"
      },
      "execution_count": 57,
      "outputs": []
    },
    {
      "cell_type": "code",
      "source": [
        "# We create a new dataframe to merge into merged_df\n",
        "loan = tr_prev_loan[['customerid', 'is_late_for_firstpay', 'exceeds_loan_term_days', 'TipoInteres' ]].copy()"
      ],
      "metadata": {
        "id": "KWToXDTloXOD"
      },
      "execution_count": 62,
      "outputs": []
    },
    {
      "cell_type": "code",
      "source": [
        "finalmerge = merged_df.merge(loan, on=\"customerid\", how=\"left\")"
      ],
      "metadata": {
        "id": "L7BF9JYPqCBJ"
      },
      "execution_count": 63,
      "outputs": []
    },
    {
      "cell_type": "code",
      "source": [
        "finalmerge.to_csv('finalmerge.csv')"
      ],
      "metadata": {
        "id": "9dCl0Sh4qJ53"
      },
      "execution_count": 64,
      "outputs": []
    }
  ]
}